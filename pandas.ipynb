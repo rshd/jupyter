{
 "cells": [
  {
   "cell_type": "markdown",
   "metadata": {},
   "source": [
    "# Pandas Reference Page"
   ]
  },
  {
   "cell_type": "code",
   "execution_count": 1,
   "metadata": {},
   "outputs": [],
   "source": [
    "import pandas as pd\n",
    "from math import *\n",
    "import datetime\n",
    "\n",
    "# defining functions\n",
    "def echo(expression):\n",
    "    print(expression+'=') # printing output to stdout\n",
    "    print(eval(expression))\n",
    "    print('')\n",
    "\n",
    "# defining ranges\n",
    "r=range(0,370,30)\n",
    "\n",
    "# defining lists\n",
    "deg=[j for j in r]\n",
    "rad=[j*pi/180 for j in r]\n",
    "s=[sin(j) for j in rad]\n",
    "c=[cos(j) for j in rad]\n",
    "t=[tan(j) for j in rad]"
   ]
  },
  {
   "cell_type": "markdown",
   "metadata": {},
   "source": [
    "## The DataFrame\n",
    "The pandas dataframe can be defined from dictionaries and lists, or other pandas series."
   ]
  },
  {
   "cell_type": "code",
   "execution_count": 2,
   "metadata": {},
   "outputs": [
    {
     "name": "stdout",
     "output_type": "stream",
     "text": [
      "x=\n",
      "      deg       rad           sin           cos           tan\n",
      "0     0.0  0.000000  0.000000e+00  1.000000e+00  0.000000e+00\n",
      "1    30.0  0.523599  5.000000e-01  8.660254e-01  5.773503e-01\n",
      "2    60.0  1.047198  8.660254e-01  5.000000e-01  1.732051e+00\n",
      "3    90.0  1.570796  1.000000e+00  6.123234e-17  1.633124e+16\n",
      "4   120.0  2.094395  8.660254e-01 -5.000000e-01 -1.732051e+00\n",
      "5   150.0  2.617994  5.000000e-01 -8.660254e-01 -5.773503e-01\n",
      "6   180.0  3.141593  1.224647e-16 -1.000000e+00 -1.224647e-16\n",
      "7   210.0  3.665191 -5.000000e-01 -8.660254e-01  5.773503e-01\n",
      "8   240.0  4.188790 -8.660254e-01 -5.000000e-01  1.732051e+00\n",
      "9   270.0  4.712389 -1.000000e+00 -1.836970e-16  5.443746e+15\n",
      "10  300.0  5.235988 -8.660254e-01  5.000000e-01 -1.732051e+00\n",
      "11  330.0  5.759587 -5.000000e-01  8.660254e-01 -5.773503e-01\n",
      "12  360.0  6.283185 -2.449294e-16  1.000000e+00 -2.449294e-16\n",
      "\n"
     ]
    }
   ],
   "source": [
    "# 1. from list,\n",
    "x=pd.DataFrame([deg,rad,s,c,t]).T #you will need to name the columns\n",
    "\n",
    "# 2. from dictionary,\n",
    "x1=pd.DataFrame({'deg':deg,'rad':rad,'sin':s,'cos':c,'tan':t}) #columns in alphabetical order\n",
    "\n",
    "# 3. from series,\n",
    "\n",
    "# define pandas series\n",
    "f=lambda x:pd.Series(x) # convert list to series datatype\n",
    "# then concatenate it into a dataframe\n",
    "x2=pd.concat([f(deg),f(rad),f(s),f(c),f(t)],axis=1) # =x\n",
    "\n",
    "x.columns=['deg','rad','sin','cos','tan']\n",
    "echo('x')"
   ]
  },
  {
   "cell_type": "markdown",
   "metadata": {},
   "source": [
    "### Indexing The DataFrame\n",
    "* Positional (like $x$ below)\n",
    "* Label-Based (like $y$ above)"
   ]
  },
  {
   "cell_type": "code",
   "execution_count": 3,
   "metadata": {},
   "outputs": [
    {
     "name": "stdout",
     "output_type": "stream",
     "text": [
      "y=\n",
      "            rad           sin           cos           tan\n",
      "deg                                                      \n",
      "0.0    0.000000  0.000000e+00  1.000000e+00  0.000000e+00\n",
      "30.0   0.523599  5.000000e-01  8.660254e-01  5.773503e-01\n",
      "60.0   1.047198  8.660254e-01  5.000000e-01  1.732051e+00\n",
      "90.0   1.570796  1.000000e+00  6.123234e-17  1.633124e+16\n",
      "120.0  2.094395  8.660254e-01 -5.000000e-01 -1.732051e+00\n",
      "150.0  2.617994  5.000000e-01 -8.660254e-01 -5.773503e-01\n",
      "180.0  3.141593  1.224647e-16 -1.000000e+00 -1.224647e-16\n",
      "210.0  3.665191 -5.000000e-01 -8.660254e-01  5.773503e-01\n",
      "240.0  4.188790 -8.660254e-01 -5.000000e-01  1.732051e+00\n",
      "270.0  4.712389 -1.000000e+00 -1.836970e-16  5.443746e+15\n",
      "300.0  5.235988 -8.660254e-01  5.000000e-01 -1.732051e+00\n",
      "330.0  5.759587 -5.000000e-01  8.660254e-01 -5.773503e-01\n",
      "360.0  6.283185 -2.449294e-16  1.000000e+00 -2.449294e-16\n",
      "\n"
     ]
    }
   ],
   "source": [
    "y=x.iloc[:,1:]\n",
    "y.index=x.deg\n",
    "echo('y')"
   ]
  },
  {
   "cell_type": "markdown",
   "metadata": {},
   "source": [
    "x is zero-indexed, whereas y is indexed by the degrees.\n",
    "\n",
    "### Rows\n",
    "\n",
    "#### Selecting Rows\n",
    "We can select rows by position or by label.."
   ]
  },
  {
   "cell_type": "code",
   "execution_count": 4,
   "metadata": {},
   "outputs": [
    {
     "name": "stdout",
     "output_type": "stream",
     "text": [
      "x.iloc[1]=\n",
      "deg    30.000000\n",
      "rad     0.523599\n",
      "sin     0.500000\n",
      "cos     0.866025\n",
      "tan     0.577350\n",
      "Name: 1, dtype: float64\n",
      "\n",
      "y.loc[30]=\n",
      "rad    0.523599\n",
      "sin    0.500000\n",
      "cos    0.866025\n",
      "tan    0.577350\n",
      "Name: 30.0, dtype: float64\n",
      "\n",
      "y.reindex([90,60,30])=\n",
      "          rad       sin           cos           tan\n",
      "deg                                                \n",
      "90   1.570796  1.000000  6.123234e-17  1.633124e+16\n",
      "60   1.047198  0.866025  5.000000e-01  1.732051e+00\n",
      "30   0.523599  0.500000  8.660254e-01  5.773503e-01\n",
      "\n"
     ]
    }
   ],
   "source": [
    "# selecting a row using iloc\n",
    "echo('x.iloc[1]')   #using the automatically generated index\n",
    "\n",
    "# selecting a row using loc\n",
    "echo('y.loc[30]')\n",
    "\n",
    "# re-order rows with reindex\n",
    "echo('y.reindex([90,60,30])')"
   ]
  },
  {
   "cell_type": "markdown",
   "metadata": {},
   "source": [
    "### Columns\n",
    "#### Selecting Columns"
   ]
  },
  {
   "cell_type": "code",
   "execution_count": 5,
   "metadata": {},
   "outputs": [
    {
     "name": "stdout",
     "output_type": "stream",
     "text": [
      "x.sin=\n",
      "0     0.000000e+00\n",
      "1     5.000000e-01\n",
      "2     8.660254e-01\n",
      "3     1.000000e+00\n",
      "4     8.660254e-01\n",
      "5     5.000000e-01\n",
      "6     1.224647e-16\n",
      "7    -5.000000e-01\n",
      "8    -8.660254e-01\n",
      "9    -1.000000e+00\n",
      "10   -8.660254e-01\n",
      "11   -5.000000e-01\n",
      "12   -2.449294e-16\n",
      "Name: sin, dtype: float64\n",
      "\n",
      "pd.concat([y.rad,y.cos],axis=1)=\n",
      "            rad           cos\n",
      "deg                          \n",
      "0.0    0.000000  1.000000e+00\n",
      "30.0   0.523599  8.660254e-01\n",
      "60.0   1.047198  5.000000e-01\n",
      "90.0   1.570796  6.123234e-17\n",
      "120.0  2.094395 -5.000000e-01\n",
      "150.0  2.617994 -8.660254e-01\n",
      "180.0  3.141593 -1.000000e+00\n",
      "210.0  3.665191 -8.660254e-01\n",
      "240.0  4.188790 -5.000000e-01\n",
      "270.0  4.712389 -1.836970e-16\n",
      "300.0  5.235988  5.000000e-01\n",
      "330.0  5.759587  8.660254e-01\n",
      "360.0  6.283185  1.000000e+00\n",
      "\n"
     ]
    }
   ],
   "source": [
    "# selecting a column using '.'\n",
    "echo('x.sin')\n",
    "\n",
    "# re-order columns\n",
    "echo('pd.concat([y.rad,y.cos],axis=1)')"
   ]
  },
  {
   "cell_type": "markdown",
   "metadata": {},
   "source": [
    "### Selecting Elements"
   ]
  },
  {
   "cell_type": "code",
   "execution_count": 6,
   "metadata": {},
   "outputs": [
    {
     "name": "stdout",
     "output_type": "stream",
     "text": [
      "x.sin[1]=\n",
      "0.49999999999999994\n",
      "\n",
      "y.sin[30]=\n",
      "0.49999999999999994\n",
      "\n"
     ]
    }
   ],
   "source": [
    "# selecting an element\n",
    "echo('x.sin[1]')   #using the automatically generated index\n",
    "echo('y.sin[30]')  #using our custom index"
   ]
  },
  {
   "cell_type": "markdown",
   "metadata": {},
   "source": [
    "### Operations\n",
    "Let's verify that\n",
    "$$\\sin^2 y+\\cos^2 y=1$$\n",
    "and,\n",
    "$$\\int_{0}^{2\\pi}(\\sin y\\cos y)dy=0$$"
   ]
  },
  {
   "cell_type": "code",
   "execution_count": 7,
   "metadata": {},
   "outputs": [
    {
     "name": "stdout",
     "output_type": "stream",
     "text": [
      "y.sin**2+y.cos**2=\n",
      "deg\n",
      "0.0      1.0\n",
      "30.0     1.0\n",
      "60.0     1.0\n",
      "90.0     1.0\n",
      "120.0    1.0\n",
      "150.0    1.0\n",
      "180.0    1.0\n",
      "210.0    1.0\n",
      "240.0    1.0\n",
      "270.0    1.0\n",
      "300.0    1.0\n",
      "330.0    1.0\n",
      "360.0    1.0\n",
      "dtype: float64\n",
      "\n",
      "round(sum(y.sin*y.cos))=\n",
      "0\n",
      "\n"
     ]
    }
   ],
   "source": [
    "# operations\n",
    "echo('y.sin**2+y.cos**2')\n",
    "echo('round(sum(y.sin*y.cos))')"
   ]
  },
  {
   "cell_type": "markdown",
   "metadata": {},
   "source": [
    "## Dates\n",
    "Suppose we want to add a column of the first of each month to be the first column."
   ]
  },
  {
   "cell_type": "code",
   "execution_count": 8,
   "metadata": {},
   "outputs": [
    {
     "name": "stdout",
     "output_type": "stream",
     "text": [
      "dates=\n",
      "[datetime.datetime(2018, 1, 1, 0, 0), datetime.datetime(2018, 2, 1, 0, 0), datetime.datetime(2018, 3, 1, 0, 0), datetime.datetime(2018, 4, 1, 0, 0), datetime.datetime(2018, 5, 1, 0, 0), datetime.datetime(2018, 6, 1, 0, 0), datetime.datetime(2018, 7, 1, 0, 0), datetime.datetime(2018, 8, 1, 0, 0), datetime.datetime(2018, 9, 1, 0, 0), datetime.datetime(2018, 10, 1, 0, 0), datetime.datetime(2018, 11, 1, 0, 0), datetime.datetime(2018, 12, 1, 0, 0), datetime.datetime(2019, 1, 1, 0, 0)]\n",
      "\n"
     ]
    }
   ],
   "source": [
    "# let's add dates column\n",
    "years=[2018]*12+[2019]\n",
    "months=[j for j in range(1,13)]+[1]\n",
    "days=[1]*13\n",
    "dates=[datetime.datetime(years[j],months[j],days[j]) for j in range(0,13)]\n",
    "echo('dates')"
   ]
  },
  {
   "cell_type": "code",
   "execution_count": 9,
   "metadata": {},
   "outputs": [
    {
     "name": "stdout",
     "output_type": "stream",
     "text": [
      "z=\n",
      "            d           sin           cos\n",
      "0  2018-01-01  0.000000e+00  1.000000e+00\n",
      "1  2018-02-01  5.000000e-01  8.660254e-01\n",
      "2  2018-03-01  8.660254e-01  5.000000e-01\n",
      "3  2018-04-01  1.000000e+00  6.123234e-17\n",
      "4  2018-05-01  8.660254e-01 -5.000000e-01\n",
      "5  2018-06-01  5.000000e-01 -8.660254e-01\n",
      "6  2018-07-01  1.224647e-16 -1.000000e+00\n",
      "7  2018-08-01 -5.000000e-01 -8.660254e-01\n",
      "8  2018-09-01 -8.660254e-01 -5.000000e-01\n",
      "9  2018-10-01 -1.000000e+00 -1.836970e-16\n",
      "10 2018-11-01 -8.660254e-01  5.000000e-01\n",
      "11 2018-12-01 -5.000000e-01  8.660254e-01\n",
      "12 2019-01-01 -2.449294e-16  1.000000e+00\n",
      "\n"
     ]
    }
   ],
   "source": [
    "# define a dataframe using a dictionary\n",
    "d=pd.DataFrame({'d':dates})\n",
    "\n",
    "z=pd.concat([d,x.sin,x.cos],axis=1)\n",
    "echo('z')"
   ]
  }
 ],
 "metadata": {
  "kernelspec": {
   "display_name": "Python 3",
   "language": "python",
   "name": "python3"
  },
  "language_info": {
   "codemirror_mode": {
    "name": "ipython",
    "version": 3
   },
   "file_extension": ".py",
   "mimetype": "text/x-python",
   "name": "python",
   "nbconvert_exporter": "python",
   "pygments_lexer": "ipython3",
   "version": "3.6.4"
  }
 },
 "nbformat": 4,
 "nbformat_minor": 2
}
