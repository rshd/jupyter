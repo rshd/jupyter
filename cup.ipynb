{
 "cells": [
  {
   "cell_type": "markdown",
   "metadata": {},
   "source": [
    "# Volume and Surface Area of a Cup\n",
    "\n",
    "## Calculus using SymPy\n",
    "\n",
    "### Volume of a Frustum of a Right Circular Cone\n",
    "\n",
    "The volume of a frustum of a right circular cone is given by \n",
    "$$V=\\int_{0}^{l}\\pi y^2 dx$$"
   ]
  },
  {
   "cell_type": "code",
   "execution_count": 38,
   "metadata": {},
   "outputs": [
    {
     "name": "stdout",
     "output_type": "stream",
     "text": [
      "V = pi*l*(R**2 + R*r + r**2)/3\n"
     ]
    }
   ],
   "source": [
    "from sympy import*\n",
    "\n",
    "r,R,x,l=symbols('r R x l')\n",
    "y=(R-r)*x/l+r\n",
    "A=pi*y**2\n",
    "\n",
    "V=integrate(A,(x,0,l))\n",
    "print('V = {}'.format(simplify(V)))"
   ]
  },
  {
   "cell_type": "markdown",
   "metadata": {},
   "source": [
    "The answer is, \n",
    "\n",
    "$$V=\\frac{\\pi l}{3}(R^2+Rr+r^2)$$\n",
    "\n",
    "#### What about error?\n",
    "Assuming we are approximating the integral with disks of finite $dx$\n",
    "$$E=\\int_{0}^{l}dE=\\int_{0}^{l}(dV-\\pi y^2dx)$$"
   ]
  },
  {
   "cell_type": "code",
   "execution_count": 41,
   "metadata": {},
   "outputs": [
    {
     "data": {
      "text/plain": [
       "pi*dx*dy**2/3 + pi*dx*dy*y"
      ]
     },
     "execution_count": 41,
     "metadata": {},
     "output_type": "execute_result"
    }
   ],
   "source": [
    "dx,y,dy=symbols('dx y dy')\n",
    "r=y\n",
    "R=(y+dy)\n",
    "l=dx\n",
    "dV=(R**2+r*R+r**2)*pi*l/3 #volume of a small frustrum\n",
    "#print('dV = {}'.format(simplify(dV)))\n",
    "dE=dV-pi*y**2*dx\n",
    "expand(dE)"
   ]
  },
  {
   "cell_type": "markdown",
   "metadata": {},
   "source": [
    "$$dE=\\frac{\\pi}{3}(dy)^2dx+\\pi ydydx$$\n",
    "\n",
    "is negligible as $dx$ goes to $0$.\n",
    "\n",
    "## Surface Area\n",
    "\n",
    "The surface area for a volume of revolution around the $x$-axis is given by\n",
    "\n",
    "$$S=\\int_{0}^{l}2\\pi y \\sqrt{1+(\\frac{dy}{dx})^2}dx$$"
   ]
  },
  {
   "cell_type": "code",
   "execution_count": 43,
   "metadata": {},
   "outputs": [
    {
     "name": "stdout",
     "output_type": "stream",
     "text": [
      "(R - r)/l\n"
     ]
    },
    {
     "data": {
      "text/plain": [
       "pi*l*sqrt((R**2 - 2*R*r + l**2 + r**2)/l**2)*(R + r)"
      ]
     },
     "execution_count": 43,
     "metadata": {},
     "output_type": "execute_result"
    }
   ],
   "source": [
    "# surface area\n",
    "r,R,x,l=symbols('r R x l')\n",
    "\n",
    "y=(R-r)*x/l+r\n",
    "dydx=diff(y,x)\n",
    "print(dydx)\n",
    "dSdx=2*pi*y*sqrt(1+dydx**2)\n",
    "S=integrate(dSdx,(x,0,l))\n",
    "simplify(S)"
   ]
  },
  {
   "cell_type": "markdown",
   "metadata": {},
   "source": [
    "$$S=\\pi(R+r)\\sqrt{(R-r)^2+l^2}$$"
   ]
  }
 ],
 "metadata": {
  "kernelspec": {
   "display_name": "Python 3",
   "language": "python",
   "name": "python3"
  },
  "language_info": {
   "codemirror_mode": {
    "name": "ipython",
    "version": 3
   },
   "file_extension": ".py",
   "mimetype": "text/x-python",
   "name": "python",
   "nbconvert_exporter": "python",
   "pygments_lexer": "ipython3",
   "version": "3.6.4"
  }
 },
 "nbformat": 4,
 "nbformat_minor": 2
}
