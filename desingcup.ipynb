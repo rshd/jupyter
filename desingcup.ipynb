{
 "cells": [
  {
   "cell_type": "markdown",
   "metadata": {},
   "source": [
    "## Problem Description\n",
    "\n",
    "We would like to design a cup that is shaped like a *frustrum of a cone*. The cup is to be of the following dimensions:\n",
    "\n",
    "$$height=100\\text{ mm}$$\n",
    "$$volume=300\\text{ mL}$$\n",
    "\n",
    "The radii can only have integer milimeters, even if we add up to $10\\text{ mL}$ to the volume of the cup. What should the upper and lower radii be? Select the design with the least surface area, as long as the cup is stable ($R/r$ shouldn't be too large) and the cup is comfortable to hold ($r$ shouldn't be too small).\n",
    "\n",
    "This problem aims to explore the following:\n",
    "\n",
    "1. Evaluating a function over a region with *itertools.product()*\n",
    "2. Searching within lists with *list.index()* for values that satisfy certain conditions.\n",
    "3. Root Finding: *scipy.optimize.root()*\n",
    "4. Plotting a function of 1 variable\n",
    "6. Plotting a function of 2 variables\n",
    "\n",
    "## 1. Evaluating a function over a region with *itertools.product()*\n",
    "\n",
    "This is typical application when evaluating a function of two variables $f(x,y)$ such as the volume of a tapered cylinder:\n",
    "\n",
    "$$V(r,R)=\\frac{\\pi l}{3}(R^2+Rr+r^2)$$\n",
    "\n",
    "See [the previous post](http://nbviewer.jupyter.org/github/rshd/jupyter/blob/master/cup.ipynb) for volume and surface area calculations (using integrals).\n",
    "\n",
    "### Input"
   ]
  },
  {
   "cell_type": "code",
   "execution_count": 148,
   "metadata": {},
   "outputs": [],
   "source": [
    "#Input\n",
    "\n",
    "l=100 #mm, height\n",
    "V0=300 #mL, volume\n",
    "Vt=10 #mL, volume tolerance \n",
    "r_range=range(10,100) #mm, range for r, R\n",
    "\n",
    "# minimum surface area\n",
    "n=3 # number of points to show of least surface area"
   ]
  },
  {
   "cell_type": "markdown",
   "metadata": {},
   "source": [
    "### Evaluating the Function"
   ]
  },
  {
   "cell_type": "code",
   "execution_count": 149,
   "metadata": {},
   "outputs": [
    {
     "name": "stdout",
     "output_type": "stream",
     "text": [
      "Total datapoints\n",
      "4095\n"
     ]
    }
   ],
   "source": [
    "from math import*\n",
    "import itertools\n",
    "\n",
    "r=[j for j in r_range] \n",
    "R=r\n",
    "g=itertools.product(r,R) # cartesian product of r and R\n",
    "\n",
    "data=[]\n",
    "for k in g:\n",
    "    r,R=k[0],k[1]\n",
    "    if R>=r:\n",
    "        V=pi*l/3*(R**2+r*R+r**2)/1000 #mL\n",
    "        vdiff=V-V0 #deviation from desired volume\n",
    "        S=pi*(R+r)*sqrt((R-r)**2+l**2)\n",
    "        data.append((r,R,V,vdiff,S))\n",
    "    \n",
    "print('Total datapoints')\n",
    "print(len(data))    "
   ]
  },
  {
   "cell_type": "markdown",
   "metadata": {},
   "source": [
    "## 2. Searching within Lists\n",
    "\n",
    "Searching with the *list.index()* method returns the first value that satifies the condition you set. Which is good for things like getting the closest point to the desired volume."
   ]
  },
  {
   "cell_type": "code",
   "execution_count": 150,
   "metadata": {},
   "outputs": [
    {
     "name": "stdout",
     "output_type": "stream",
     "text": [
      "\n",
      "The closest value to 300 mL is:\n",
      "r=17 mm  R=43 mm  V=300.44 mL\n"
     ]
    }
   ],
   "source": [
    "# closest point to desired volume\n",
    "vdiff=[k[3] for k in data]\n",
    "\n",
    "condition=min([k for k in vdiff if k>=0])\n",
    "index=vdiff.index(condition)\n",
    "r1,R1,V1,vdiff1,S1=data[index]\n",
    "\n",
    "print('\\nThe closest value to {} mL is:'.format(V0))\n",
    "print('r={} mm  R={} mm  V={:6.2f} mL'.format(r1,R1,V1))"
   ]
  },
  {
   "cell_type": "markdown",
   "metadata": {},
   "source": [
    "### Caution: The *list.index()* Method\n",
    "\n",
    "*list.index()* only returns the **first** index that satisfy a value. \n",
    "\n",
    "So, what if we want multiple values, such as all values within 10 mL from the desired volume?"
   ]
  },
  {
   "cell_type": "code",
   "execution_count": 151,
   "metadata": {},
   "outputs": [
    {
     "name": "stdout",
     "output_type": "stream",
     "text": [
      "Total datapoints satisfying \"condition\"\n",
      "21 unique points\n"
     ]
    }
   ],
   "source": [
    "indices=[]\n",
    "for j in vdiff:\n",
    "    if j<Vt and j>=0: #\"condition\"\n",
    "        indices.append(vdiff.index(j)) \n",
    "          #get the index that satisfies \"condition\" in vdiff\n",
    "        vdiff[vdiff.index(j)]=vdiff[vdiff.index(j)]+1000 \n",
    "          #altered the value so to search for the next index\n",
    "\n",
    "for j in indices:\n",
    "    vdiff[j]=vdiff[j]-1000 #restored altered value to what it was\n",
    "\n",
    "sol=[]        \n",
    "for j in indices: #j satisfies \"condition\"\n",
    "    k=data[j]\n",
    "    pt=(j,k[0],k[1],k[2],k[3],k[4]) #get the datapoints at indices\n",
    "    sol.append(pt)\n",
    "\n",
    "#check..    \n",
    "print('Total datapoints satisfying \"condition\"')\n",
    "s=set(sol)\n",
    "if (len(s)==len(sol)):\n",
    "    print('{} unique points'.format(len(s)))\n",
    "else:\n",
    "    print('check your data!')   "
   ]
  },
  {
   "cell_type": "markdown",
   "metadata": {},
   "source": [
    "### Plot 1"
   ]
  },
  {
   "cell_type": "code",
   "execution_count": 152,
   "metadata": {},
   "outputs": [
    {
     "data": {
      "image/png": "[encoded data removed]",
      "text/plain": [
       "<Figure size 432x288 with 1 Axes>"
      ]
     },
     "metadata": {},
     "output_type": "display_data"
    }
   ],
   "source": [
    "import matplotlib.pyplot as plt\n",
    "\n",
    "# extract datapoints\n",
    "x=[k[1] for k in sol]\n",
    "y=[k[2] for k in sol]\n",
    "\n",
    "# plot 1\n",
    "plt.plot(x,y,'o')\n",
    "plt.grid()\n",
    "plt.title('$V$={} mL, $l$={} mm'.format(V0,l),fontsize=16)\n",
    "plt.xlabel('$r$, mm')\n",
    "plt.ylabel('$R$, mm')\n",
    "plt.show()"
   ]
  },
  {
   "cell_type": "markdown",
   "metadata": {},
   "source": [
    "## 3. Root Finding: *scipy.optimize.root()*\n",
    "\n",
    "What if we want to know the exact solution at $r$?"
   ]
  },
  {
   "cell_type": "code",
   "execution_count": 153,
   "metadata": {},
   "outputs": [],
   "source": [
    "from scipy.optimize import root\n",
    "\n",
    "def f(R):\n",
    "    return pi*l/3*(R**2+R*r+r**2)-V0*1000\n",
    "\n",
    "y2=[]\n",
    "for k in sol:\n",
    "    r=k[1]\n",
    "    solution=root(f,20) #solves the quadratic eq\n",
    "    y2.append(solution.x[0])  #takes the positive root"
   ]
  },
  {
   "cell_type": "markdown",
   "metadata": {},
   "source": [
    "### Plot 2"
   ]
  },
  {
   "cell_type": "code",
   "execution_count": 154,
   "metadata": {
    "scrolled": true
   },
   "outputs": [
    {
     "data": {
      "image/png": "[encoded data removed]",
      "text/plain": [
       "<Figure size 432x288 with 1 Axes>"
      ]
     },
     "metadata": {},
     "output_type": "display_data"
    }
   ],
   "source": [
    "# plot 2\n",
    "plt.plot(x,y,'o')\n",
    "plt.plot(x,y2,'-*r')\n",
    "plt.grid()\n",
    "plt.title('$V$={} mL, $l$={} mm'.format(V0,l),fontsize=16)\n",
    "plt.xlabel('$r$, mm')\n",
    "plt.ylabel('$R$, mm')\n",
    "plt.show()"
   ]
  },
  {
   "cell_type": "markdown",
   "metadata": {},
   "source": [
    "## Minimum Surface Area\n",
    "\n",
    "The surface area is given by\n",
    "$$S=\\pi(R+r)\\sqrt{(R-r)^2+l^2}$$"
   ]
  },
  {
   "cell_type": "code",
   "execution_count": 155,
   "metadata": {},
   "outputs": [],
   "source": [
    "S=[k[5] for k in sol]\n",
    "\n",
    "j=S.index(min(S))\n",
    "solution=sol[j]"
   ]
  },
  {
   "cell_type": "markdown",
   "metadata": {},
   "source": [
    "## Conclusion\n",
    "Best value"
   ]
  },
  {
   "cell_type": "code",
   "execution_count": 156,
   "metadata": {
    "scrolled": true
   },
   "outputs": [
    {
     "name": "stdout",
     "output_type": "stream",
     "text": [
      "The point with least surface area is\n",
      "r= 17 mm\n",
      "R= 43 mm\n",
      "V= 300.44 mm\n",
      "S= 19476.25 mm\n",
      "l= 100 mm\n"
     ]
    }
   ],
   "source": [
    "print('The point with least surface area is')\n",
    "print('r= {} mm'.format(solution[1]))\n",
    "print('R= {} mm'.format(solution[2]))\n",
    "print('V= {:6.2f} mm'.format(solution[3]))\n",
    "print('S= {:6.2f} mm'.format(solution[5]))\n",
    "print('l= {} mm'.format(l))"
   ]
  },
  {
   "cell_type": "markdown",
   "metadata": {},
   "source": [
    "### Other options\n",
    "Print the best $n$ number of values.."
   ]
  },
  {
   "cell_type": "code",
   "execution_count": 157,
   "metadata": {},
   "outputs": [
    {
     "name": "stdout",
     "output_type": "stream",
     "text": [
      "3 points of least minimum surface area:\n",
      "(635, 17, 43, 300.44097743830395, 0.4409774383039462, 19476.25291758422)\n",
      "(1680, 31, 31, 301.9070540099791, 1.907054009979106, 19477.874452256718)\n",
      "(1612, 30, 32, 302.01177376509884, 2.0117737650988374, 19481.76963766757)\n"
     ]
    }
   ],
   "source": [
    "print('{} points of least minimum surface area:'.format(n))\n",
    "\n",
    "if len(S)>n:\n",
    "    for j in range(n):\n",
    "        m=min(S)\n",
    "        for k in sol:\n",
    "            if k[5]==m:\n",
    "                print(k)\n",
    "        S.pop(S.index(min(S)))\n",
    "else:\n",
    "        [print(j) for j in S]"
   ]
  },
  {
   "cell_type": "markdown",
   "metadata": {},
   "source": [
    "# Plotting Volume to Surface Ratio\n",
    "\n",
    "Let's plot the function $V/S$ later..\n",
    "$$\\frac{V}{S}\\text{ at }l=f(r,R)=\\frac{\\frac{\\pi l}{3}(R^2+Rr+r^2)}{\\pi(R+r)\\sqrt{(R-r)^2+l^2}}$$\n"
   ]
  },
  {
   "cell_type": "code",
   "execution_count": 166,
   "metadata": {},
   "outputs": [
    {
     "data": {
      "text/plain": [
       "Text(0,0.5,'R, mm')"
      ]
     },
     "execution_count": 166,
     "metadata": {},
     "output_type": "execute_result"
    },
    {
     "data": {
      "image/png": "[encoded data removed]",
      "text/plain": [
       "<Figure size 432x288 with 2 Axes>"
      ]
     },
     "metadata": {},
     "output_type": "display_data"
    }
   ],
   "source": [
    "import numpy as np\n",
    "\n",
    "def z(X,Y):\n",
    "    return l/3*(Y**2+Y*X+X**2)/((Y+X)*np.sqrt((Y-X)**2+l**2))\n",
    "q=50\n",
    "x=np.arange(0.1,q) #r\n",
    "y=x                  #R\n",
    "X,Y=np.meshgrid(x,y)\n",
    "Z=np.zeros(np.shape(X))\n",
    "\n",
    "g=itertools.product(range(0,len(x)),range(0,len(y)))\n",
    "for i in g:\n",
    "    if X[i]<=Y[i]:\n",
    "        Z[i]=z(X[i],Y[i])\n",
    "    else:\n",
    "        Z[i]=nan\n",
    "\n",
    "plt.contourf(X,Y,Z)\n",
    "plt.colorbar()\n",
    "plt.text(.45*q,.3*q,'$r>R$\\n(unacceptable shape)',size=12)\n",
    "plt.text(.15*q,.8*q,'$r\\leqslant R$\\n(acceptable shape)',size=12)\n",
    "plt.plot(x,y,'--k')\n",
    "plt.title('Ratio of Volume to Surface Area',size=16)\n",
    "plt.xlabel('r, mm')\n",
    "plt.ylabel('R, mm')\n",
    "plt.show()"
   ]
  },
  {
   "cell_type": "markdown",
   "metadata": {},
   "source": [
    "$\\therefore$ Wider cups have a higher ratio of volume to surface area *for this height*."
   ]
  }
 ],
 "metadata": {
  "hide_input": false,
  "kernelspec": {
   "display_name": "Python 3",
   "language": "python",
   "name": "python3"
  },
  "language_info": {
   "codemirror_mode": {
    "name": "ipython",
    "version": 3
   },
   "file_extension": ".py",
   "mimetype": "text/x-python",
   "name": "python",
   "nbconvert_exporter": "python",
   "pygments_lexer": "ipython3",
   "version": "3.6.4"
  }
 },
 "nbformat": 4,
 "nbformat_minor": 2
}
